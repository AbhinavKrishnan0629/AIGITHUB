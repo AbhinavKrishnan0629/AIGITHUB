{
 "cells": [
  {
   "cell_type": "code",
   "execution_count": null,
   "id": "739f5565",
   "metadata": {},
   "outputs": [],
   "source": [
    "import numpy as np # linear algebra\n",
    "import pandas as pd # data processing, CSV file I/O (e.g. pd.read_csv)\n",
    "from tqdm import tqdm\n",
    "from sklearn.model_selection import train_test_split\n",
    "from sklearn import preprocessing, decomposition, model_selection, metrics, pipeline\n",
    "\n",
    "import tensorflow as tf\n",
    "\n",
    "import matplotlib.pyplot as plt\n",
    "import seaborn as sns\n",
    "%matplotlib inline\n",
    "from plotly import graph_objs as go\n",
    "import plotly.express as px\n",
    "import plotly.figure_factory as ff"
   ]
  },
  {
   "cell_type": "code",
   "execution_count": null,
   "id": "c0e45686",
   "metadata": {},
   "outputs": [],
   "source": [
    "import random\n",
    "import os\n",
    "from tensorflow.python.eager import context\n",
    "from tensorflow.python.client import device_lib\n",
    "\n",
    "\n",
    "# Check if GPU is available\n",
    "if tf.config.list_physical_devices('GPU'):\n",
    "    print(\"GPU is available\\n\")\n",
    "    print(\"CuDNN is enabled: True\\n\")\n",
    "else:\n",
    "    print(\"GPU is not available\\n\")\n",
    "\n",
    "\n",
    "print(tf.config.list_physical_devices('GPU'), \"\\n\")\n",
    "print(\"Num GPUs Available: \", len(tf.config.list_physical_devices('GPU')), \"\\n\")\n",
    "print(\"GPU Name: \", tf.test.gpu_device_name(), \"\\n\")\n",
    "\n",
    "\n",
    "def get_available_devices():\n",
    "    local_device_protos = device_lib.list_local_devices()\n",
    "    return [x.name for x in local_device_protos]\n",
    "\n",
    "print(\"Available devices: \", get_available_devices(), \"\\n\")\n",
    "\n",
    "devices_available = get_available_devices()\n",
    "print(devices_available[1])"
   ]
  },
  {
   "cell_type": "code",
   "execution_count": null,
   "id": "1babb8f7",
   "metadata": {},
   "outputs": [],
   "source": [
    "# Detect hardware, return appropriate distribution strategy\n",
    "with tf.device(devices_available[1]):\n",
    "    tf.debugging.set_log_device_placement(True)\n",
    "    try:\n",
    "        # TPU detection. No parameters necessary if TPU_NAME environment variable is\n",
    "        # set: this is always the case on Kaggle.\n",
    "        tpu = tf.distribute.cluster_resolver.TPUClusterResolver()\n",
    "        print('Running on TPU ', tpu.master())\n",
    "    except ValueError:\n",
    "        tpu = None\n",
    "\n",
    "    if tpu:\n",
    "        tf.config.experimental_connect_to_cluster(tpu)\n",
    "        tf.tpu.experimental.initialize_tpu_system(tpu)\n",
    "        strategy = tf.distribute.experimental.TPUStrategy(tpu)\n",
    "    else:\n",
    "        # Default distribution strategy in Tensorflow. Works on CPU and single GPU.\n",
    "        strategy = tf.distribute.get_strategy()\n",
    "\n",
    "    print(\"Num of replicas: \", strategy.num_replicas_in_sync)\n",
    "#tf.distribute.get_strategy().num_replicas_in_sync equals 1,\n",
    "# it means that the training is not distributed and is being performed on a single device."
   ]
  },
  {
   "cell_type": "code",
   "execution_count": null,
   "id": "44d98c20",
   "metadata": {},
   "outputs": [],
   "source": [
    "train      = pd.read_csv(\"A:/Programming/Mini Project/College projects/S6 mini project/Transformers_study/jigsaw-multilingual-toxic-comment-classification/jigsaw-toxic-comment-train.csv\")\n",
    "validation = pd.read_csv(\"A:/Programming/Mini Project/College projects/S6 mini project/Transformers_study/jigsaw-multilingual-toxic-comment-classification/validation.csv\")\n",
    "test       = pd.read_csv(\"A:/Programming/Mini Project/College projects/S6 mini project/Transformers_study/jigsaw-multilingual-toxic-comment-classification/test.csv\")"
   ]
  },
  {
   "cell_type": "code",
   "execution_count": null,
   "id": "ab1aec8f",
   "metadata": {},
   "outputs": [],
   "source": [
    "for i in [train, validation, test]:\n",
    "    shape = i.shape\n",
    "    ncols = shape[1]\n",
    "    nrows = shape[0]\n",
    "    print(\"Number of columns: \", ncols)\n",
    "    for j in i.columns:\n",
    "        print(j, end=\", \")\n",
    "    print(\"\\nNumber of rows: \", nrows)"
   ]
  },
  {
   "cell_type": "code",
   "execution_count": null,
   "id": "096ac09e",
   "metadata": {},
   "outputs": [],
   "source": [
    "train.drop(['severe_toxic','obscene','threat','insult','identity_hate'],axis=1,inplace=True)"
   ]
  },
  {
   "cell_type": "code",
   "execution_count": null,
   "id": "2ad8994f",
   "metadata": {},
   "outputs": [],
   "source": [
    "train = train.loc[:12000,:]\n",
    "train.shape"
   ]
  },
  {
   "cell_type": "code",
   "execution_count": null,
   "id": "02f05dc8",
   "metadata": {},
   "outputs": [],
   "source": [
    "#Max number of words that is possible in column comment_text\n",
    "train['comment_text'].apply(lambda x: len(str(x).split())).max()"
   ]
  },
  {
   "cell_type": "code",
   "execution_count": null,
   "id": "21ad658b",
   "metadata": {},
   "outputs": [],
   "source": [
    "def roc_auc(predictions, target):\n",
    "    fpr, tpr, thresholds = metrics.roc_curve(target, predictions)\n",
    "    roc_auc = metrics.auc(fpr, tpr)\n",
    "    return roc_auc"
   ]
  },
  {
   "cell_type": "code",
   "execution_count": null,
   "id": "028d1057",
   "metadata": {},
   "outputs": [],
   "source": [
    "xtrain, xvalid, ytrain, yvalid = train_test_split(train.comment_text.values, train.toxic.values, \n",
    "                                                  stratify=train.toxic.values, \n",
    "                                                  random_state=42, \n",
    "                                                  test_size=0.2, shuffle=True)"
   ]
  },
  {
   "cell_type": "code",
   "execution_count": null,
   "id": "b9d28843",
   "metadata": {},
   "outputs": [],
   "source": []
  },
  {
   "cell_type": "code",
   "execution_count": null,
   "id": "443c1835",
   "metadata": {},
   "outputs": [],
   "source": []
  },
  {
   "cell_type": "code",
   "execution_count": null,
   "id": "1de66818",
   "metadata": {},
   "outputs": [],
   "source": []
  },
  {
   "cell_type": "code",
   "execution_count": null,
   "id": "7a6fc3f3",
   "metadata": {},
   "outputs": [],
   "source": []
  },
  {
   "cell_type": "code",
   "execution_count": null,
   "id": "8b0f8904",
   "metadata": {},
   "outputs": [],
   "source": []
  }
 ],
 "metadata": {
  "kernelspec": {
   "display_name": "Python 3 (ipykernel)",
   "language": "python",
   "name": "python3"
  },
  "language_info": {
   "codemirror_mode": {
    "name": "ipython",
    "version": 3
   },
   "file_extension": ".py",
   "mimetype": "text/x-python",
   "name": "python",
   "nbconvert_exporter": "python",
   "pygments_lexer": "ipython3",
   "version": "3.10.7"
  }
 },
 "nbformat": 4,
 "nbformat_minor": 5
}
