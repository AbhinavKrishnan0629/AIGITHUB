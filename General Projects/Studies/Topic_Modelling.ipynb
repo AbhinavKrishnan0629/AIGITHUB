{
 "cells": [
  {
   "cell_type": "code",
   "execution_count": null,
   "id": "a84189da",
   "metadata": {},
   "outputs": [],
   "source": [
    "import base64\n",
    "import numpy as np\n",
    "import pandas as pd\n",
    "\n",
    "# Plotly imports\n",
    "import plotly.offline as py\n",
    "py.init_notebook_mode(connected=True)\n",
    "import plotly.graph_objs as go\n",
    "import plotly.tools as tls\n",
    "from collections import Counter\n",
    "\n",
    "import scipy.misc\n",
    "import imageio\n",
    "\n",
    "from sklearn.feature_extraction.text import TfidfVectorizer, CountVectorizer\n",
    "from sklearn.decomposition import NMF, LatentDirichletAllocation\n",
    "from matplotlib import pyplot as plt\n",
    "%matplotlib inline"
   ]
  },
  {
   "cell_type": "code",
   "execution_count": null,
   "id": "7159421e",
   "metadata": {},
   "outputs": [],
   "source": [
    "train = pd.read_csv(\"A:/Programming/Mini Project/College projects/S6 mini project/Data/Topic_modelling_study/spooky-author-identification/train.csv\")\n",
    "test = pd.read_csv(\"A:/Programming/Mini Project/College projects/S6 mini project/Data/Topic_modelling_study/spooky-author-identification/test.csv\")"
   ]
  },
  {
   "cell_type": "code",
   "execution_count": null,
   "id": "c81732e8",
   "metadata": {},
   "outputs": [],
   "source": [
    "train.head()"
   ]
  },
  {
   "cell_type": "code",
   "execution_count": null,
   "id": "712154f0",
   "metadata": {},
   "outputs": [],
   "source": [
    "z = {'EAP': 'Edgar Allen Poe', 'MWS': 'Mary Shelley', 'HPL': 'HP Lovecraft'}\n",
    "train.author.map(z).unique()"
   ]
  },
  {
   "cell_type": "code",
   "execution_count": null,
   "id": "cd7b420c",
   "metadata": {},
   "outputs": [],
   "source": [
    "train.author.value_counts()"
   ]
  },
  {
   "cell_type": "code",
   "execution_count": null,
   "id": "3cedca9d",
   "metadata": {},
   "outputs": [],
   "source": [
    "z = {'EAP': 'Edgar Allen Poe', 'MWS': 'Mary Shelley', 'HPL': 'HP Lovecraft'}\n",
    "data = [go.Bar(\n",
    "            x = train.author.map(z).unique(),\n",
    "            y = train.author.value_counts().values,\n",
    "            marker= dict(colorscale='Jet',\n",
    "                         color = train.author.value_counts().values\n",
    "                        ),\n",
    "#             text='Text entries attributed to Author'\n",
    "            )\n",
    "       ]\n",
    "\n",
    "layout = go.Layout(\n",
    "    title='Target variable distribution'\n",
    ")\n",
    "\n",
    "fig = go.Figure(data=data, layout=layout)\n",
    "\n",
    "py.iplot(fig, filename='basic-bar')"
   ]
  },
  {
   "cell_type": "code",
   "execution_count": null,
   "id": "5bb52ac0",
   "metadata": {},
   "outputs": [],
   "source": [
    "train['text'].str.split(expand=True)"
   ]
  },
  {
   "cell_type": "code",
   "execution_count": null,
   "id": "0dc4b5bc",
   "metadata": {},
   "outputs": [],
   "source": [
    "train.shape"
   ]
  },
  {
   "cell_type": "code",
   "execution_count": null,
   "id": "1925d70c",
   "metadata": {},
   "outputs": [],
   "source": [
    "max_words = 0\n",
    "row = 0\n",
    "for i in range(train.shape[0]):\n",
    "    if len(train['text'][i].split()) > max_words:\n",
    "        print(\"before: \", max_words)\n",
    "        print(\"len(train['text'][%d])\", len(train['text'][i].split()))\n",
    "        max_words = len(train['text'][i].split())\n",
    "        row = i\n",
    "        print(\"after: \", max_words)\n",
    "print(max_words, i)"
   ]
  },
  {
   "cell_type": "code",
   "execution_count": null,
   "id": "1c093df7",
   "metadata": {},
   "outputs": [],
   "source": [
    "train['text'][6]"
   ]
  },
  {
   "cell_type": "code",
   "execution_count": null,
   "id": "a7448ce4",
   "metadata": {},
   "outputs": [],
   "source": [
    "len(train['text'][6].split())"
   ]
  },
  {
   "cell_type": "code",
   "execution_count": null,
   "id": "77aacd9b",
   "metadata": {},
   "outputs": [],
   "source": [
    "part = train['text'].str.split(expand=True).unstack()"
   ]
  },
  {
   "cell_type": "code",
   "execution_count": null,
   "id": "78092bd6",
   "metadata": {},
   "outputs": [],
   "source": [
    "all_words = part.value_counts()"
   ]
  },
  {
   "cell_type": "code",
   "execution_count": null,
   "id": "da5f0381",
   "metadata": {},
   "outputs": [],
   "source": [
    "all_words.index.values"
   ]
  },
  {
   "cell_type": "code",
   "execution_count": null,
   "id": "40a3fdb2",
   "metadata": {},
   "outputs": [],
   "source": []
  }
 ],
 "metadata": {
  "kernelspec": {
   "display_name": "Python 3 (ipykernel)",
   "language": "python",
   "name": "python3"
  },
  "language_info": {
   "codemirror_mode": {
    "name": "ipython",
    "version": 3
   },
   "file_extension": ".py",
   "mimetype": "text/x-python",
   "name": "python",
   "nbconvert_exporter": "python",
   "pygments_lexer": "ipython3",
   "version": "3.10.7"
  }
 },
 "nbformat": 4,
 "nbformat_minor": 5
}
