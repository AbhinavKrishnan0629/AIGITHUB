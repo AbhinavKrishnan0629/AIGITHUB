{
 "cells": [
  {
   "cell_type": "code",
   "execution_count": null,
   "id": "c726c7a9",
   "metadata": {},
   "outputs": [],
   "source": [
    "import numpy as np # linear algebra\n",
    "import pandas as pd # data processing, CSV file I/O (e.g. pd.read_csv)\n",
    "from tqdm import tqdm\n",
    "from sklearn.model_selection import train_test_split\n",
    "from sklearn import preprocessing, decomposition, model_selection, metrics, pipeline\n",
    "\n",
    "import tensorflow as tf\n",
    "\n",
    "import matplotlib.pyplot as plt\n",
    "import seaborn as sns\n",
    "%matplotlib inline\n",
    "from plotly import graph_objs as go\n",
    "import plotly.express as px\n",
    "import plotly.figure_factory as ff"
   ]
  },
  {
   "cell_type": "code",
   "execution_count": null,
   "id": "36fa8aee",
   "metadata": {},
   "outputs": [],
   "source": [
    "import random\n",
    "import os\n",
    "from tensorflow.python.eager import context\n",
    "from tensorflow.python.client import device_lib\n",
    "\n",
    "\n",
    "# Check if GPU is available\n",
    "if tf.config.list_physical_devices('GPU'):\n",
    "    print(\"GPU is available\\n\")\n",
    "    print(\"CuDNN is enabled: True\\n\")\n",
    "else:\n",
    "    print(\"GPU is not available\\n\")\n",
    "\n",
    "\n",
    "print(tf.config.list_physical_devices('GPU'), \"\\n\")\n",
    "print(\"Num GPUs Available: \", len(tf.config.list_physical_devices('GPU')), \"\\n\")\n",
    "print(\"GPU Name: \", tf.test.gpu_device_name(), \"\\n\")\n",
    "\n",
    "\n",
    "def get_available_devices():\n",
    "    local_device_protos = device_lib.list_local_devices()\n",
    "    return [x.name for x in local_device_protos]\n",
    "\n",
    "print(\"Available devices: \", get_available_devices(), \"\\n\")\n",
    "\n",
    "devices_available = get_available_devices()\n",
    "print(devices_available[1])"
   ]
  },
  {
   "cell_type": "code",
   "execution_count": null,
   "id": "6b3a30e2",
   "metadata": {},
   "outputs": [],
   "source": [
    "# Detect hardware, return appropriate distribution strategy\n",
    "with tf.device(devices_available[1]):\n",
    "    tf.debugging.set_log_device_placement(True)\n",
    "    try:\n",
    "        # TPU detection. No parameters necessary if TPU_NAME environment variable is\n",
    "        # set: this is always the case on Kaggle.\n",
    "        tpu = tf.distribute.cluster_resolver.TPUClusterResolver()\n",
    "        print('Running on TPU ', tpu.master())\n",
    "    except ValueError:\n",
    "        tpu = None\n",
    "\n",
    "    if tpu:\n",
    "        tf.config.experimental_connect_to_cluster(tpu)\n",
    "        tf.tpu.experimental.initialize_tpu_system(tpu)\n",
    "        strategy = tf.distribute.experimental.TPUStrategy(tpu)\n",
    "    else:\n",
    "        # Default distribution strategy in Tensorflow. Works on CPU and single GPU.\n",
    "        strategy = tf.distribute.get_strategy()\n",
    "\n",
    "    print(\"Num of replicas: \", strategy.num_replicas_in_sync)\n",
    "#tf.distribute.get_strategy().num_replicas_in_sync equals 1,\n",
    "# it means that the training is not distributed and is being performed on a single device."
   ]
  }
 ],
 "metadata": {
  "kernelspec": {
   "display_name": "Python 3 (ipykernel)",
   "language": "python",
   "name": "python3"
  },
  "language_info": {
   "codemirror_mode": {
    "name": "ipython",
    "version": 3
   },
   "file_extension": ".py",
   "mimetype": "text/x-python",
   "name": "python",
   "nbconvert_exporter": "python",
   "pygments_lexer": "ipython3",
   "version": "3.10.7"
  }
 },
 "nbformat": 4,
 "nbformat_minor": 5
}
